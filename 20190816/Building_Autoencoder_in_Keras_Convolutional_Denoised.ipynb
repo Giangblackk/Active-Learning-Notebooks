{
 "cells": [
  {
   "cell_type": "code",
   "execution_count": 1,
   "metadata": {
    "colab": {
     "base_uri": "https://localhost:8080/",
     "height": 34
    },
    "colab_type": "code",
    "id": "zHDc3kn8GLz8",
    "outputId": "dfeb4d82-9652-4e14-88e3-0eb6d68cce52"
   },
   "outputs": [
    {
     "name": "stderr",
     "output_type": "stream",
     "text": [
      "Using TensorFlow backend.\n"
     ]
    }
   ],
   "source": [
    "from keras.datasets import mnist\n",
    "import numpy as np\n",
    "(x_train, _), (x_test, _) = mnist.load_data()"
   ]
  },
  {
   "cell_type": "code",
   "execution_count": 2,
   "metadata": {
    "colab": {
     "base_uri": "https://localhost:8080/",
     "height": 34
    },
    "colab_type": "code",
    "id": "fChqvw64GtRI",
    "outputId": "63d2b119-a5d0-4c20-ad40-3658e1f65d9c"
   },
   "outputs": [
    {
     "name": "stdout",
     "output_type": "stream",
     "text": [
      "(60000, 28, 28) (10000, 28, 28)\n"
     ]
    }
   ],
   "source": [
    "print(x_train.shape, x_test.shape)"
   ]
  },
  {
   "cell_type": "code",
   "execution_count": 3,
   "metadata": {
    "colab": {
     "base_uri": "https://localhost:8080/",
     "height": 52
    },
    "colab_type": "code",
    "id": "uVunEyHFGaHQ",
    "outputId": "fba2d97c-8262-4771-b44f-5234e0adf99a"
   },
   "outputs": [
    {
     "name": "stdout",
     "output_type": "stream",
     "text": [
      "(60000, 28, 28, 1)\n",
      "(10000, 28, 28, 1)\n"
     ]
    }
   ],
   "source": [
    "# alternative reshape\n",
    "\n",
    "x_train = x_train.astype('float32') / 255.\n",
    "x_test = x_test.astype('float32') / 255.\n",
    "x_train = np.reshape(x_train, (len(x_train), 28, 28, 1))  # adapt this if using `channels_first` image data format\n",
    "x_test = np.reshape(x_test, (len(x_test), 28, 28, 1))  # adapt this if using `channels_first` image data format\n",
    "print(x_train.shape)\n",
    "print(x_test.shape)"
   ]
  },
  {
   "cell_type": "code",
   "execution_count": 0,
   "metadata": {
    "colab": {},
    "colab_type": "code",
    "id": "SvJGgIea2q_z"
   },
   "outputs": [],
   "source": [
    "noise_factor = 0.5\n",
    "x_train_noisy = x_train + noise_factor * np.random.normal(loc=0.0, scale=1.0, size=x_train.shape) \n",
    "x_test_noisy = x_test + noise_factor * np.random.normal(loc=0.0, scale=1.0, size=x_test.shape) \n",
    "\n",
    "x_train_noisy = np.clip(x_train_noisy, 0., 1.)\n",
    "x_test_noisy = np.clip(x_test_noisy, 0., 1.)"
   ]
  },
  {
   "cell_type": "code",
   "execution_count": 5,
   "metadata": {
    "colab": {
     "base_uri": "https://localhost:8080/",
     "height": 145
    },
    "colab_type": "code",
    "id": "ayIsffcY2xk-",
    "outputId": "14229465-dcd0-4159-aa73-d7cf3be4998c"
   },
   "outputs": [
    {
     "data": {
      "image/png": "[encoded data removed]",
      "text/plain": [
       "<Figure size 1440x144 with 10 Axes>"
      ]
     },
     "metadata": {
      "tags": []
     },
     "output_type": "display_data"
    }
   ],
   "source": [
    "import matplotlib.pyplot as plt\n",
    "n = 10\n",
    "plt.figure(figsize=(20, 2))\n",
    "for i in range(n):\n",
    "    ax = plt.subplot(1, n, i + 1)\n",
    "    plt.imshow(x_test_noisy[i].reshape(28, 28))\n",
    "    plt.gray()\n",
    "    ax.get_xaxis().set_visible(False)\n",
    "    ax.get_yaxis().set_visible(False)\n",
    "plt.show()"
   ]
  },
  {
   "cell_type": "code",
   "execution_count": 0,
   "metadata": {
    "colab": {},
    "colab_type": "code",
    "id": "rYTUkXkn5gYg"
   },
   "outputs": [],
   "source": [
    "from keras.layers import Input, Dense, Conv2D, MaxPooling2D, UpSampling2D\n",
    "from keras.models import Model\n",
    "from keras import backend as K"
   ]
  },
  {
   "cell_type": "code",
   "execution_count": 7,
   "metadata": {
    "colab": {
     "base_uri": "https://localhost:8080/",
     "height": 228
    },
    "colab_type": "code",
    "id": "9jPlVGuS5-ce",
    "outputId": "a0f5fcbf-3e59-4947-f2bb-84efcaa93651"
   },
   "outputs": [
    {
     "name": "stderr",
     "output_type": "stream",
     "text": [
      "WARNING: Logging before flag parsing goes to stderr.\n",
      "W0816 09:58:12.485200 139817327789952 deprecation_wrapper.py:119] From /usr/local/lib/python3.6/dist-packages/keras/backend/tensorflow_backend.py:74: The name tf.get_default_graph is deprecated. Please use tf.compat.v1.get_default_graph instead.\n",
      "\n",
      "W0816 09:58:12.508573 139817327789952 deprecation_wrapper.py:119] From /usr/local/lib/python3.6/dist-packages/keras/backend/tensorflow_backend.py:517: The name tf.placeholder is deprecated. Please use tf.compat.v1.placeholder instead.\n",
      "\n",
      "W0816 09:58:12.514013 139817327789952 deprecation_wrapper.py:119] From /usr/local/lib/python3.6/dist-packages/keras/backend/tensorflow_backend.py:4138: The name tf.random_uniform is deprecated. Please use tf.random.uniform instead.\n",
      "\n",
      "W0816 09:58:12.532664 139817327789952 deprecation_wrapper.py:119] From /usr/local/lib/python3.6/dist-packages/keras/backend/tensorflow_backend.py:3976: The name tf.nn.max_pool is deprecated. Please use tf.nn.max_pool2d instead.\n",
      "\n",
      "W0816 09:58:12.591424 139817327789952 deprecation_wrapper.py:119] From /usr/local/lib/python3.6/dist-packages/keras/backend/tensorflow_backend.py:2018: The name tf.image.resize_nearest_neighbor is deprecated. Please use tf.compat.v1.image.resize_nearest_neighbor instead.\n",
      "\n"
     ]
    }
   ],
   "source": [
    "input_img = Input(shape=(28, 28, 1))\n",
    "\n",
    "x = Conv2D(16, (3, 3), activation='relu', padding='same')(input_img)\n",
    "x = MaxPooling2D((2, 2), padding='same')(x)\n",
    "x = Conv2D(8, (3, 3), activation='relu', padding='same')(x)\n",
    "x = MaxPooling2D((2, 2), padding='same')(x)\n",
    "x = Conv2D(8, (3, 3), activation='relu', padding='same')(x)\n",
    "encoded = MaxPooling2D((2, 2), padding='same')(x)\n",
    "\n",
    "# at this point the representation is (4, 4, 8) i.e. 128-dimensional\n",
    "\n",
    "x = Conv2D(8, (3, 3), activation='relu', padding='same')(encoded)\n",
    "x = UpSampling2D((2, 2))(x)\n",
    "x = Conv2D(8, (3, 3), activation='relu', padding='same')(x)\n",
    "x = UpSampling2D((2, 2))(x)\n",
    "x = Conv2D(16, (3, 3), activation='relu')(x)\n",
    "x = UpSampling2D((2, 2))(x)\n",
    "decoded = Conv2D(1, (3, 3), activation='sigmoid', padding='same')(x)"
   ]
  },
  {
   "cell_type": "code",
   "execution_count": 0,
   "metadata": {
    "colab": {},
    "colab_type": "code",
    "id": "7AuA8qqE6pkq"
   },
   "outputs": [],
   "source": [
    "autoencoder = Model(input_img, decoded)"
   ]
  },
  {
   "cell_type": "code",
   "execution_count": 9,
   "metadata": {
    "colab": {
     "base_uri": "https://localhost:8080/",
     "height": 159
    },
    "colab_type": "code",
    "id": "J_Uu0knfEnn2",
    "outputId": "97545f59-342d-494b-ed45-c9ba6e7328fe"
   },
   "outputs": [
    {
     "name": "stderr",
     "output_type": "stream",
     "text": [
      "W0816 09:58:12.776952 139817327789952 deprecation_wrapper.py:119] From /usr/local/lib/python3.6/dist-packages/keras/optimizers.py:790: The name tf.train.Optimizer is deprecated. Please use tf.compat.v1.train.Optimizer instead.\n",
      "\n",
      "W0816 09:58:12.806191 139817327789952 deprecation_wrapper.py:119] From /usr/local/lib/python3.6/dist-packages/keras/backend/tensorflow_backend.py:3376: The name tf.log is deprecated. Please use tf.math.log instead.\n",
      "\n",
      "W0816 09:58:12.814375 139817327789952 deprecation.py:323] From /usr/local/lib/python3.6/dist-packages/tensorflow/python/ops/nn_impl.py:180: add_dispatch_support.<locals>.wrapper (from tensorflow.python.ops.array_ops) is deprecated and will be removed in a future version.\n",
      "Instructions for updating:\n",
      "Use tf.where in 2.0, which has the same broadcast rule as np.where\n"
     ]
    }
   ],
   "source": [
    "autoencoder.compile(optimizer='adadelta', loss='binary_crossentropy')"
   ]
  },
  {
   "cell_type": "code",
   "execution_count": 10,
   "metadata": {
    "colab": {
     "base_uri": "https://localhost:8080/",
     "height": 1000
    },
    "colab_type": "code",
    "id": "TMRY5ESAH3d-",
    "outputId": "88569eed-839a-4af1-a4f0-4ae2c137cbad"
   },
   "outputs": [
    {
     "name": "stderr",
     "output_type": "stream",
     "text": [
      "W0816 09:58:13.199146 139817327789952 deprecation_wrapper.py:119] From /usr/local/lib/python3.6/dist-packages/keras/backend/tensorflow_backend.py:986: The name tf.assign_add is deprecated. Please use tf.compat.v1.assign_add instead.\n",
      "\n"
     ]
    },
    {
     "name": "stdout",
     "output_type": "stream",
     "text": [
      "Train on 60000 samples, validate on 10000 samples\n",
      "Epoch 1/50\n",
      "60000/60000 [==============================] - 9s 153us/step - loss: 0.2411 - val_loss: 0.1862\n",
      "Epoch 2/50\n",
      "60000/60000 [==============================] - 7s 123us/step - loss: 0.1780 - val_loss: 0.1680\n",
      "Epoch 3/50\n",
      "60000/60000 [==============================] - 7s 121us/step - loss: 0.1631 - val_loss: 0.1593\n",
      "Epoch 4/50\n",
      "60000/60000 [==============================] - 7s 119us/step - loss: 0.1546 - val_loss: 0.1567\n",
      "Epoch 5/50\n",
      "60000/60000 [==============================] - 7s 120us/step - loss: 0.1494 - val_loss: 0.1512\n",
      "Epoch 6/50\n",
      "60000/60000 [==============================] - 7s 124us/step - loss: 0.1456 - val_loss: 0.1471\n",
      "Epoch 7/50\n",
      "60000/60000 [==============================] - 7s 121us/step - loss: 0.1430 - val_loss: 0.1440\n",
      "Epoch 8/50\n",
      "60000/60000 [==============================] - 7s 121us/step - loss: 0.1411 - val_loss: 0.1419\n",
      "Epoch 9/50\n",
      "60000/60000 [==============================] - 7s 122us/step - loss: 0.1395 - val_loss: 0.1386\n",
      "Epoch 10/50\n",
      "60000/60000 [==============================] - 7s 121us/step - loss: 0.1381 - val_loss: 0.1341\n",
      "Epoch 11/50\n",
      "60000/60000 [==============================] - 7s 121us/step - loss: 0.1365 - val_loss: 0.1335\n",
      "Epoch 12/50\n",
      "60000/60000 [==============================] - 7s 123us/step - loss: 0.1356 - val_loss: 0.1346\n",
      "Epoch 13/50\n",
      "60000/60000 [==============================] - 7s 121us/step - loss: 0.1349 - val_loss: 0.1326\n",
      "Epoch 14/50\n",
      "60000/60000 [==============================] - 7s 118us/step - loss: 0.1339 - val_loss: 0.1315\n",
      "Epoch 15/50\n",
      "60000/60000 [==============================] - 7s 118us/step - loss: 0.1332 - val_loss: 0.1339\n",
      "Epoch 16/50\n",
      "60000/60000 [==============================] - 7s 117us/step - loss: 0.1324 - val_loss: 0.1317\n",
      "Epoch 17/50\n",
      "60000/60000 [==============================] - 7s 118us/step - loss: 0.1317 - val_loss: 0.1282\n",
      "Epoch 18/50\n",
      "60000/60000 [==============================] - 7s 118us/step - loss: 0.1307 - val_loss: 0.1288\n",
      "Epoch 19/50\n",
      "60000/60000 [==============================] - 7s 118us/step - loss: 0.1304 - val_loss: 0.1280\n",
      "Epoch 20/50\n",
      "60000/60000 [==============================] - 7s 121us/step - loss: 0.1296 - val_loss: 0.1280\n",
      "Epoch 21/50\n",
      "60000/60000 [==============================] - 7s 119us/step - loss: 0.1292 - val_loss: 0.1289\n",
      "Epoch 22/50\n",
      "60000/60000 [==============================] - 7s 120us/step - loss: 0.1288 - val_loss: 0.1264\n",
      "Epoch 23/50\n",
      "60000/60000 [==============================] - 7s 125us/step - loss: 0.1286 - val_loss: 0.1260\n",
      "Epoch 24/50\n",
      "60000/60000 [==============================] - 7s 123us/step - loss: 0.1281 - val_loss: 0.1299\n",
      "Epoch 25/50\n",
      "60000/60000 [==============================] - 7s 120us/step - loss: 0.1277 - val_loss: 0.1251\n",
      "Epoch 26/50\n",
      "60000/60000 [==============================] - 7s 122us/step - loss: 0.1275 - val_loss: 0.1274\n",
      "Epoch 27/50\n",
      "60000/60000 [==============================] - 7s 122us/step - loss: 0.1270 - val_loss: 0.1298\n",
      "Epoch 28/50\n",
      "60000/60000 [==============================] - 7s 122us/step - loss: 0.1265 - val_loss: 0.1254\n",
      "Epoch 29/50\n",
      "60000/60000 [==============================] - 7s 121us/step - loss: 0.1265 - val_loss: 0.1255\n",
      "Epoch 30/50\n",
      "60000/60000 [==============================] - 7s 120us/step - loss: 0.1262 - val_loss: 0.1246\n",
      "Epoch 31/50\n",
      "60000/60000 [==============================] - 7s 123us/step - loss: 0.1260 - val_loss: 0.1283\n",
      "Epoch 32/50\n",
      "60000/60000 [==============================] - 7s 122us/step - loss: 0.1257 - val_loss: 0.1254\n",
      "Epoch 33/50\n",
      "60000/60000 [==============================] - 7s 123us/step - loss: 0.1254 - val_loss: 0.1256\n",
      "Epoch 34/50\n",
      "60000/60000 [==============================] - 7s 121us/step - loss: 0.1253 - val_loss: 0.1237\n",
      "Epoch 35/50\n",
      "60000/60000 [==============================] - 7s 122us/step - loss: 0.1251 - val_loss: 0.1221\n",
      "Epoch 36/50\n",
      "60000/60000 [==============================] - 7s 120us/step - loss: 0.1250 - val_loss: 0.1221\n",
      "Epoch 37/50\n",
      "60000/60000 [==============================] - 7s 122us/step - loss: 0.1243 - val_loss: 0.1235\n",
      "Epoch 38/50\n",
      "60000/60000 [==============================] - 7s 121us/step - loss: 0.1243 - val_loss: 0.1241\n",
      "Epoch 39/50\n",
      "60000/60000 [==============================] - 7s 121us/step - loss: 0.1241 - val_loss: 0.1214\n",
      "Epoch 40/50\n",
      "60000/60000 [==============================] - 7s 121us/step - loss: 0.1240 - val_loss: 0.1213\n",
      "Epoch 41/50\n",
      "60000/60000 [==============================] - 7s 122us/step - loss: 0.1236 - val_loss: 0.1223\n",
      "Epoch 42/50\n",
      "60000/60000 [==============================] - 7s 121us/step - loss: 0.1234 - val_loss: 0.1215\n",
      "Epoch 43/50\n",
      "60000/60000 [==============================] - 7s 122us/step - loss: 0.1233 - val_loss: 0.1212\n",
      "Epoch 44/50\n",
      "60000/60000 [==============================] - 7s 120us/step - loss: 0.1234 - val_loss: 0.1219\n",
      "Epoch 45/50\n",
      "60000/60000 [==============================] - 7s 118us/step - loss: 0.1233 - val_loss: 0.1220\n",
      "Epoch 46/50\n",
      "60000/60000 [==============================] - 7s 121us/step - loss: 0.1229 - val_loss: 0.1234\n",
      "Epoch 47/50\n",
      "60000/60000 [==============================] - 7s 120us/step - loss: 0.1231 - val_loss: 0.1220\n",
      "Epoch 48/50\n",
      "60000/60000 [==============================] - 7s 122us/step - loss: 0.1227 - val_loss: 0.1198\n",
      "Epoch 49/50\n",
      "60000/60000 [==============================] - 7s 120us/step - loss: 0.1228 - val_loss: 0.1222\n",
      "Epoch 50/50\n",
      "60000/60000 [==============================] - 7s 121us/step - loss: 0.1226 - val_loss: 0.1229\n"
     ]
    },
    {
     "data": {
      "text/plain": [
       "<keras.callbacks.History at 0x7f2976d8fa20>"
      ]
     },
     "execution_count": 10,
     "metadata": {
      "tags": []
     },
     "output_type": "execute_result"
    }
   ],
   "source": [
    "autoencoder.fit(x_train_noisy, x_train,\n",
    "                epochs=50,\n",
    "                batch_size=128,\n",
    "                shuffle=True,\n",
    "                validation_data=(x_test_noisy, x_test))"
   ]
  },
  {
   "cell_type": "code",
   "execution_count": 11,
   "metadata": {
    "colab": {
     "base_uri": "https://localhost:8080/",
     "height": 264
    },
    "colab_type": "code",
    "id": "R7BZI3h6b68S",
    "outputId": "2d259124-2ff5-433f-b57b-0fe375d5529a"
   },
   "outputs": [
    {
     "data": {
      "image/png": "[encoded data removed]",
      "text/plain": [
       "<Figure size 1440x288 with 20 Axes>"
      ]
     },
     "metadata": {
      "tags": []
     },
     "output_type": "display_data"
    }
   ],
   "source": [
    "import matplotlib.pyplot as plt\n",
    "decoded_imgs = autoencoder.predict(x_test_noisy)\n",
    "\n",
    "n = 10\n",
    "plt.figure(figsize=(20, 4))\n",
    "for i in range(n):\n",
    "    # display original\n",
    "    ax = plt.subplot(2, n, i + 1)\n",
    "    plt.imshow(x_test_noisy[i].reshape(28, 28))\n",
    "    plt.gray()\n",
    "    ax.get_xaxis().set_visible(False)\n",
    "    ax.get_yaxis().set_visible(False)\n",
    "\n",
    "    # display reconstruction\n",
    "    ax = plt.subplot(2, n, i + 1 + n)\n",
    "    plt.imshow(decoded_imgs[i].reshape(28, 28))\n",
    "    plt.gray()\n",
    "    ax.get_xaxis().set_visible(False)\n",
    "    ax.get_yaxis().set_visible(False)\n",
    "plt.show()"
   ]
  }
 ],
 "metadata": {
  "accelerator": "GPU",
  "colab": {
   "collapsed_sections": [],
   "name": "Building Autoencoder in Keras - Convolutional Denoised.ipynb",
   "provenance": [],
   "version": "0.3.2"
  },
  "kernelspec": {
   "display_name": "Python 3",
   "language": "python",
   "name": "python3"
  },
  "language_info": {
   "codemirror_mode": {
    "name": "ipython",
    "version": 3
   },
   "file_extension": ".py",
   "mimetype": "text/x-python",
   "name": "python",
   "nbconvert_exporter": "python",
   "pygments_lexer": "ipython3",
   "version": "3.6.8"
  }
 },
 "nbformat": 4,
 "nbformat_minor": 1
}
