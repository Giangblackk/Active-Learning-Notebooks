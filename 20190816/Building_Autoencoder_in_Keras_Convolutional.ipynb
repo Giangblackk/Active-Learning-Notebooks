{
  "nbformat": 4,
  "nbformat_minor": 0,
  "metadata": {
    "colab": {
      "name": "Building Autoencoder in Keras - Convolutional.ipynb",
      "version": "0.3.2",
      "provenance": [],
      "collapsed_sections": []
    },
    "kernelspec": {
      "name": "python3",
      "display_name": "Python 3"
    },
    "accelerator": "GPU"
  },
  "cells": [
    {
      "cell_type": "code",
      "metadata": {
        "id": "zHDc3kn8GLz8",
        "colab_type": "code",
        "colab": {
          "base_uri": "https://localhost:8080/",
          "height": 34
        },
        "outputId": "7c99e967-013e-4196-d4dd-a52269a94a86"
      },
      "source": [
        "from keras.datasets import mnist\n",
        "import numpy as np\n",
        "(x_train, _), (x_test, _) = mnist.load_data()"
      ],
      "execution_count": 1,
      "outputs": [
        {
          "output_type": "stream",
          "text": [
            "Using TensorFlow backend.\n"
          ],
          "name": "stderr"
        }
      ]
    },
    {
      "cell_type": "code",
      "metadata": {
        "id": "fChqvw64GtRI",
        "colab_type": "code",
        "outputId": "09061920-e43a-4cd1-aff2-3afc5aac6d01",
        "colab": {
          "base_uri": "https://localhost:8080/",
          "height": 34
        }
      },
      "source": [
        "print(x_train.shape, x_test.shape)"
      ],
      "execution_count": 2,
      "outputs": [
        {
          "output_type": "stream",
          "text": [
            "(60000, 28, 28) (10000, 28, 28)\n"
          ],
          "name": "stdout"
        }
      ]
    },
    {
      "cell_type": "code",
      "metadata": {
        "id": "uVunEyHFGaHQ",
        "colab_type": "code",
        "outputId": "1c064768-8c74-4298-90e8-60d66e3a748b",
        "colab": {
          "base_uri": "https://localhost:8080/",
          "height": 52
        }
      },
      "source": [
        "# alternative reshape\n",
        "\n",
        "x_train = x_train.astype('float32') / 255.\n",
        "x_test = x_test.astype('float32') / 255.\n",
        "x_train = np.reshape(x_train, (len(x_train), 28, 28, 1))  # adapt this if using `channels_first` image data format\n",
        "x_test = np.reshape(x_test, (len(x_test), 28, 28, 1))  # adapt this if using `channels_first` image data format\n",
        "print(x_train.shape)\n",
        "print(x_test.shape)"
      ],
      "execution_count": 3,
      "outputs": [
        {
          "output_type": "stream",
          "text": [
            "(60000, 28, 28, 1)\n",
            "(10000, 28, 28, 1)\n"
          ],
          "name": "stdout"
        }
      ]
    },
    {
      "cell_type": "code",
      "metadata": {
        "id": "rYTUkXkn5gYg",
        "colab_type": "code",
        "colab": {}
      },
      "source": [
        "from keras.layers import Input, Dense, Conv2D, MaxPooling2D, UpSampling2D\n",
        "from keras.models import Model\n",
        "from keras import backend as K"
      ],
      "execution_count": 0,
      "outputs": []
    },
    {
      "cell_type": "code",
      "metadata": {
        "id": "9jPlVGuS5-ce",
        "colab_type": "code",
        "colab": {
          "base_uri": "https://localhost:8080/",
          "height": 228
        },
        "outputId": "2f1e355b-c7d3-41aa-ad0b-fc70d618e4d6"
      },
      "source": [
        "input_img = Input(shape=(28, 28, 1))\n",
        "\n",
        "x = Conv2D(16, (3, 3), activation='relu', padding='same')(input_img)\n",
        "x = MaxPooling2D((2, 2), padding='same')(x)\n",
        "x = Conv2D(8, (3, 3), activation='relu', padding='same')(x)\n",
        "x = MaxPooling2D((2, 2), padding='same')(x)\n",
        "x = Conv2D(8, (3, 3), activation='relu', padding='same')(x)\n",
        "encoded = MaxPooling2D((2, 2), padding='same')(x)\n",
        "\n",
        "# at this point the representation is (4, 4, 8) i.e. 128-dimensional\n",
        "\n",
        "x = Conv2D(8, (3, 3), activation='relu', padding='same')(encoded)\n",
        "x = UpSampling2D((2, 2))(x)\n",
        "x = Conv2D(8, (3, 3), activation='relu', padding='same')(x)\n",
        "x = UpSampling2D((2, 2))(x)\n",
        "x = Conv2D(16, (3, 3), activation='relu')(x)\n",
        "x = UpSampling2D((2, 2))(x)\n",
        "decoded = Conv2D(1, (3, 3), activation='sigmoid', padding='same')(x)"
      ],
      "execution_count": 5,
      "outputs": [
        {
          "output_type": "stream",
          "text": [
            "WARNING: Logging before flag parsing goes to stderr.\n",
            "W0816 09:36:27.098930 140175516505984 deprecation_wrapper.py:119] From /usr/local/lib/python3.6/dist-packages/keras/backend/tensorflow_backend.py:74: The name tf.get_default_graph is deprecated. Please use tf.compat.v1.get_default_graph instead.\n",
            "\n",
            "W0816 09:36:27.116935 140175516505984 deprecation_wrapper.py:119] From /usr/local/lib/python3.6/dist-packages/keras/backend/tensorflow_backend.py:517: The name tf.placeholder is deprecated. Please use tf.compat.v1.placeholder instead.\n",
            "\n",
            "W0816 09:36:27.121575 140175516505984 deprecation_wrapper.py:119] From /usr/local/lib/python3.6/dist-packages/keras/backend/tensorflow_backend.py:4138: The name tf.random_uniform is deprecated. Please use tf.random.uniform instead.\n",
            "\n",
            "W0816 09:36:27.153391 140175516505984 deprecation_wrapper.py:119] From /usr/local/lib/python3.6/dist-packages/keras/backend/tensorflow_backend.py:3976: The name tf.nn.max_pool is deprecated. Please use tf.nn.max_pool2d instead.\n",
            "\n",
            "W0816 09:36:27.213710 140175516505984 deprecation_wrapper.py:119] From /usr/local/lib/python3.6/dist-packages/keras/backend/tensorflow_backend.py:2018: The name tf.image.resize_nearest_neighbor is deprecated. Please use tf.compat.v1.image.resize_nearest_neighbor instead.\n",
            "\n"
          ],
          "name": "stderr"
        }
      ]
    },
    {
      "cell_type": "code",
      "metadata": {
        "id": "7AuA8qqE6pkq",
        "colab_type": "code",
        "colab": {}
      },
      "source": [
        "autoencoder = Model(input_img, decoded)"
      ],
      "execution_count": 0,
      "outputs": []
    },
    {
      "cell_type": "code",
      "metadata": {
        "id": "J_Uu0knfEnn2",
        "colab_type": "code",
        "colab": {
          "base_uri": "https://localhost:8080/",
          "height": 159
        },
        "outputId": "b6f0e778-6bc6-470a-9d3f-f4bfc7425c6c"
      },
      "source": [
        "autoencoder.compile(optimizer='adadelta', loss='binary_crossentropy')"
      ],
      "execution_count": 7,
      "outputs": [
        {
          "output_type": "stream",
          "text": [
            "W0816 09:36:27.298325 140175516505984 deprecation_wrapper.py:119] From /usr/local/lib/python3.6/dist-packages/keras/optimizers.py:790: The name tf.train.Optimizer is deprecated. Please use tf.compat.v1.train.Optimizer instead.\n",
            "\n",
            "W0816 09:36:27.329255 140175516505984 deprecation_wrapper.py:119] From /usr/local/lib/python3.6/dist-packages/keras/backend/tensorflow_backend.py:3376: The name tf.log is deprecated. Please use tf.math.log instead.\n",
            "\n",
            "W0816 09:36:27.337552 140175516505984 deprecation.py:323] From /usr/local/lib/python3.6/dist-packages/tensorflow/python/ops/nn_impl.py:180: add_dispatch_support.<locals>.wrapper (from tensorflow.python.ops.array_ops) is deprecated and will be removed in a future version.\n",
            "Instructions for updating:\n",
            "Use tf.where in 2.0, which has the same broadcast rule as np.where\n"
          ],
          "name": "stderr"
        }
      ]
    },
    {
      "cell_type": "code",
      "metadata": {
        "id": "TMRY5ESAH3d-",
        "colab_type": "code",
        "outputId": "74ede269-a27a-42a2-ace3-a6451860ff08",
        "colab": {
          "base_uri": "https://localhost:8080/",
          "height": 1000
        }
      },
      "source": [
        "autoencoder.fit(x_train, x_train,\n",
        "                epochs=50,\n",
        "                batch_size=128,\n",
        "                shuffle=True,\n",
        "                validation_data=(x_test, x_test))"
      ],
      "execution_count": 8,
      "outputs": [
        {
          "output_type": "stream",
          "text": [
            "W0816 09:36:27.835019 140175516505984 deprecation_wrapper.py:119] From /usr/local/lib/python3.6/dist-packages/keras/backend/tensorflow_backend.py:986: The name tf.assign_add is deprecated. Please use tf.compat.v1.assign_add instead.\n",
            "\n"
          ],
          "name": "stderr"
        },
        {
          "output_type": "stream",
          "text": [
            "Train on 60000 samples, validate on 10000 samples\n",
            "Epoch 1/50\n",
            "60000/60000 [==============================] - 10s 173us/step - loss: 0.2093 - val_loss: 0.1633\n",
            "Epoch 2/50\n",
            "60000/60000 [==============================] - 7s 111us/step - loss: 0.1506 - val_loss: 0.1401\n",
            "Epoch 3/50\n",
            "60000/60000 [==============================] - 7s 113us/step - loss: 0.1368 - val_loss: 0.1341\n",
            "Epoch 4/50\n",
            "60000/60000 [==============================] - 7s 110us/step - loss: 0.1297 - val_loss: 0.1288\n",
            "Epoch 5/50\n",
            "60000/60000 [==============================] - 7s 110us/step - loss: 0.1250 - val_loss: 0.1242\n",
            "Epoch 6/50\n",
            "60000/60000 [==============================] - 7s 113us/step - loss: 0.1213 - val_loss: 0.1197\n",
            "Epoch 7/50\n",
            "60000/60000 [==============================] - 7s 111us/step - loss: 0.1190 - val_loss: 0.1191\n",
            "Epoch 8/50\n",
            "60000/60000 [==============================] - 7s 110us/step - loss: 0.1172 - val_loss: 0.1179\n",
            "Epoch 9/50\n",
            "60000/60000 [==============================] - 7s 113us/step - loss: 0.1156 - val_loss: 0.1131\n",
            "Epoch 10/50\n",
            "60000/60000 [==============================] - 7s 112us/step - loss: 0.1139 - val_loss: 0.1160\n",
            "Epoch 11/50\n",
            "60000/60000 [==============================] - 7s 111us/step - loss: 0.1131 - val_loss: 0.1084\n",
            "Epoch 12/50\n",
            "60000/60000 [==============================] - 7s 115us/step - loss: 0.1120 - val_loss: 0.1109\n",
            "Epoch 13/50\n",
            "60000/60000 [==============================] - 7s 111us/step - loss: 0.1110 - val_loss: 0.1121\n",
            "Epoch 14/50\n",
            "60000/60000 [==============================] - 7s 111us/step - loss: 0.1104 - val_loss: 0.1061\n",
            "Epoch 15/50\n",
            "60000/60000 [==============================] - 7s 115us/step - loss: 0.1097 - val_loss: 0.1082\n",
            "Epoch 16/50\n",
            "60000/60000 [==============================] - 7s 111us/step - loss: 0.1093 - val_loss: 0.1070\n",
            "Epoch 17/50\n",
            "60000/60000 [==============================] - 7s 111us/step - loss: 0.1087 - val_loss: 0.1112\n",
            "Epoch 18/50\n",
            "60000/60000 [==============================] - 7s 116us/step - loss: 0.1080 - val_loss: 0.1117\n",
            "Epoch 19/50\n",
            "60000/60000 [==============================] - 7s 111us/step - loss: 0.1075 - val_loss: 0.1042\n",
            "Epoch 20/50\n",
            "60000/60000 [==============================] - 7s 111us/step - loss: 0.1074 - val_loss: 0.1056\n",
            "Epoch 21/50\n",
            "60000/60000 [==============================] - 7s 113us/step - loss: 0.1070 - val_loss: 0.1100\n",
            "Epoch 22/50\n",
            "60000/60000 [==============================] - 7s 111us/step - loss: 0.1062 - val_loss: 0.1031\n",
            "Epoch 23/50\n",
            "60000/60000 [==============================] - 7s 109us/step - loss: 0.1057 - val_loss: 0.1044\n",
            "Epoch 24/50\n",
            "60000/60000 [==============================] - 7s 110us/step - loss: 0.1054 - val_loss: 0.1046\n",
            "Epoch 25/50\n",
            "60000/60000 [==============================] - 7s 113us/step - loss: 0.1053 - val_loss: 0.1017\n",
            "Epoch 26/50\n",
            "60000/60000 [==============================] - 7s 112us/step - loss: 0.1051 - val_loss: 0.1026\n",
            "Epoch 27/50\n",
            "60000/60000 [==============================] - 7s 112us/step - loss: 0.1049 - val_loss: 0.1035\n",
            "Epoch 28/50\n",
            "60000/60000 [==============================] - 7s 112us/step - loss: 0.1044 - val_loss: 0.1033\n",
            "Epoch 29/50\n",
            "60000/60000 [==============================] - 7s 110us/step - loss: 0.1038 - val_loss: 0.1040\n",
            "Epoch 30/50\n",
            "60000/60000 [==============================] - 7s 112us/step - loss: 0.1038 - val_loss: 0.1045\n",
            "Epoch 31/50\n",
            "60000/60000 [==============================] - 7s 110us/step - loss: 0.1034 - val_loss: 0.1012\n",
            "Epoch 32/50\n",
            "60000/60000 [==============================] - 7s 109us/step - loss: 0.1033 - val_loss: 0.1014\n",
            "Epoch 33/50\n",
            "60000/60000 [==============================] - 7s 110us/step - loss: 0.1029 - val_loss: 0.1010\n",
            "Epoch 34/50\n",
            "60000/60000 [==============================] - 7s 110us/step - loss: 0.1028 - val_loss: 0.1022\n",
            "Epoch 35/50\n",
            "60000/60000 [==============================] - 7s 116us/step - loss: 0.1024 - val_loss: 0.1031\n",
            "Epoch 36/50\n",
            "60000/60000 [==============================] - 7s 109us/step - loss: 0.1026 - val_loss: 0.1022\n",
            "Epoch 37/50\n",
            "60000/60000 [==============================] - 7s 109us/step - loss: 0.1024 - val_loss: 0.1054\n",
            "Epoch 38/50\n",
            "60000/60000 [==============================] - 7s 110us/step - loss: 0.1020 - val_loss: 0.1024\n",
            "Epoch 39/50\n",
            "60000/60000 [==============================] - 7s 112us/step - loss: 0.1018 - val_loss: 0.0997\n",
            "Epoch 40/50\n",
            "60000/60000 [==============================] - 7s 110us/step - loss: 0.1016 - val_loss: 0.0984\n",
            "Epoch 41/50\n",
            "60000/60000 [==============================] - 7s 111us/step - loss: 0.1013 - val_loss: 0.0978\n",
            "Epoch 42/50\n",
            "60000/60000 [==============================] - 7s 112us/step - loss: 0.1012 - val_loss: 0.1014\n",
            "Epoch 43/50\n",
            "60000/60000 [==============================] - 7s 110us/step - loss: 0.1010 - val_loss: 0.0994\n",
            "Epoch 44/50\n",
            "60000/60000 [==============================] - 7s 111us/step - loss: 0.1008 - val_loss: 0.0991\n",
            "Epoch 45/50\n",
            "60000/60000 [==============================] - 7s 112us/step - loss: 0.1008 - val_loss: 0.0984\n",
            "Epoch 46/50\n",
            "60000/60000 [==============================] - 7s 110us/step - loss: 0.1008 - val_loss: 0.1003\n",
            "Epoch 47/50\n",
            "60000/60000 [==============================] - 7s 111us/step - loss: 0.1004 - val_loss: 0.1008\n",
            "Epoch 48/50\n",
            "60000/60000 [==============================] - 7s 112us/step - loss: 0.1003 - val_loss: 0.0971\n",
            "Epoch 49/50\n",
            "60000/60000 [==============================] - 7s 110us/step - loss: 0.1002 - val_loss: 0.0998\n",
            "Epoch 50/50\n",
            "60000/60000 [==============================] - 7s 112us/step - loss: 0.1002 - val_loss: 0.1017\n"
          ],
          "name": "stdout"
        },
        {
          "output_type": "execute_result",
          "data": {
            "text/plain": [
              "<keras.callbacks.History at 0x7f7cdcb3deb8>"
            ]
          },
          "metadata": {
            "tags": []
          },
          "execution_count": 8
        }
      ]
    },
    {
      "cell_type": "code",
      "metadata": {
        "id": "R7BZI3h6b68S",
        "colab_type": "code",
        "outputId": "26445890-596a-4c55-981d-383d98e7482b",
        "colab": {
          "base_uri": "https://localhost:8080/",
          "height": 244
        }
      },
      "source": [
        "import matplotlib.pyplot as plt\n",
        "decoded_imgs = autoencoder.predict(x_test)\n",
        "\n",
        "n = 10\n",
        "plt.figure(figsize=(20, 4))\n",
        "for i in range(n):\n",
        "    # display original\n",
        "    ax = plt.subplot(2, n, i + 1)\n",
        "    plt.imshow(x_test[i].reshape(28, 28))\n",
        "    plt.gray()\n",
        "    ax.get_xaxis().set_visible(False)\n",
        "    ax.get_yaxis().set_visible(False)\n",
        "\n",
        "    # display reconstruction\n",
        "    ax = plt.subplot(2, n, i + 1 + n)\n",
        "    plt.imshow(decoded_imgs[i].reshape(28, 28))\n",
        "    plt.gray()\n",
        "    ax.get_xaxis().set_visible(False)\n",
        "    ax.get_yaxis().set_visible(False)\n",
        "plt.show()"
      ],
      "execution_count": 14,
      "outputs": [
        {
          "output_type": "display_data",
          "data": {
            "image/png": "[encoded data removed]",
            "text/plain": [
              "<Figure size 1440x288 with 20 Axes>"
            ]
          },
          "metadata": {
            "tags": []
          }
        }
      ]
    },
    {
      "cell_type": "code",
      "metadata": {
        "id": "Tu9tZyi9b_VK",
        "colab_type": "code",
        "colab": {}
      },
      "source": [
        ""
      ],
      "execution_count": 0,
      "outputs": []
    }
  ]
}