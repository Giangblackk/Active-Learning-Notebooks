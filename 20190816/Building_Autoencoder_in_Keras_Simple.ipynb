{
  "nbformat": 4,
  "nbformat_minor": 0,
  "metadata": {
    "colab": {
      "name": "Building Autoencoder in Keras - Simple.ipynb",
      "version": "0.3.2",
      "provenance": [],
      "collapsed_sections": []
    },
    "kernelspec": {
      "name": "python3",
      "display_name": "Python 3"
    },
    "accelerator": "GPU"
  },
  "cells": [
    {
      "cell_type": "code",
      "metadata": {
        "id": "rYTUkXkn5gYg",
        "colab_type": "code",
        "colab": {}
      },
      "source": [
        "from keras.layers import Input, Dense\n",
        "from keras.models import Model"
      ],
      "execution_count": 0,
      "outputs": []
    },
    {
      "cell_type": "code",
      "metadata": {
        "id": "9jPlVGuS5-ce",
        "colab_type": "code",
        "colab": {}
      },
      "source": [
        "# Kích thước của code/representation\n",
        "encoding_dim = 32\n",
        "\n",
        "# Đầu vào\n",
        "input_img = Input(shape=(784,))\n",
        "\n",
        "encoded = Dense(encoding_dim, activation='relu')(input_img)\n",
        "\n",
        "decoded = Dense(784, activation='sigmoid')(encoded)\n",
        "\n",
        "autoencoder = Model(input_img, decoded)"
      ],
      "execution_count": 0,
      "outputs": []
    },
    {
      "cell_type": "code",
      "metadata": {
        "id": "7AuA8qqE6pkq",
        "colab_type": "code",
        "colab": {}
      },
      "source": [
        "encoder = Model(input_img, encoded)"
      ],
      "execution_count": 0,
      "outputs": []
    },
    {
      "cell_type": "code",
      "metadata": {
        "id": "74wd3Eq6ENj7",
        "colab_type": "code",
        "colab": {}
      },
      "source": [
        "encoded_input = Input(shape=(encoding_dim,))\n",
        "decoded_layer = autoencoder.layers[-1]\n",
        "decoder = Model(encoded_input, decoded_layer(encoded_input))"
      ],
      "execution_count": 0,
      "outputs": []
    },
    {
      "cell_type": "code",
      "metadata": {
        "id": "J_Uu0knfEnn2",
        "colab_type": "code",
        "colab": {}
      },
      "source": [
        "autoencoder.compile(optimizer='adadelta', loss='binary_crossentropy')"
      ],
      "execution_count": 0,
      "outputs": []
    },
    {
      "cell_type": "code",
      "metadata": {
        "id": "zHDc3kn8GLz8",
        "colab_type": "code",
        "colab": {}
      },
      "source": [
        "from keras.datasets import mnist\n",
        "import numpy as np\n",
        "(x_train, _), (x_test, _) = mnist.load_data()"
      ],
      "execution_count": 0,
      "outputs": []
    },
    {
      "cell_type": "code",
      "metadata": {
        "id": "fChqvw64GtRI",
        "colab_type": "code",
        "outputId": "fc0a3144-5960-40c1-cf69-5954b817e6a4",
        "colab": {
          "base_uri": "https://localhost:8080/",
          "height": 34
        }
      },
      "source": [
        "print(x_train.shape, x_test.shape)"
      ],
      "execution_count": 0,
      "outputs": [
        {
          "output_type": "stream",
          "text": [
            "(60000, 28, 28) (10000, 28, 28)\n"
          ],
          "name": "stdout"
        }
      ]
    },
    {
      "cell_type": "code",
      "metadata": {
        "id": "uVunEyHFGaHQ",
        "colab_type": "code",
        "outputId": "2028cce3-aabc-4783-dc99-cb7d2866a5b0",
        "colab": {
          "base_uri": "https://localhost:8080/",
          "height": 52
        }
      },
      "source": [
        "# alternative reshape\n",
        "x_train = x_train.astype('float32') / 255.\n",
        "x_test = x_test.astype('float32') / 255.\n",
        "x_train = x_train.reshape((x_train.shape[0], -1))\n",
        "x_test = x_test.reshape((x_test.shape[0], -1))\n",
        "print(x_train.shape)\n",
        "print(x_test.shape)"
      ],
      "execution_count": 0,
      "outputs": [
        {
          "output_type": "stream",
          "text": [
            "(60000, 784)\n",
            "(10000, 784)\n"
          ],
          "name": "stdout"
        }
      ]
    },
    {
      "cell_type": "code",
      "metadata": {
        "id": "TMRY5ESAH3d-",
        "colab_type": "code",
        "outputId": "18718e4a-5ea8-4d9a-a2e7-a9e6c1ce0804",
        "colab": {
          "base_uri": "https://localhost:8080/",
          "height": 1000
        }
      },
      "source": [
        "autoencoder.fit(x_train, x_train,\n",
        "                epochs=50,\n",
        "                batch_size=512,\n",
        "                shuffle=True,\n",
        "                validation_data=(x_test, x_test))\n"
      ],
      "execution_count": 0,
      "outputs": [
        {
          "output_type": "stream",
          "text": [
            "Train on 60000 samples, validate on 10000 samples\n",
            "Epoch 1/50\n",
            "60000/60000 [==============================] - 1s 21us/step - loss: 0.4345 - val_loss: 0.2811\n",
            "Epoch 2/50\n",
            "60000/60000 [==============================] - 1s 15us/step - loss: 0.2756 - val_loss: 0.2703\n",
            "Epoch 3/50\n",
            "60000/60000 [==============================] - 1s 15us/step - loss: 0.2671 - val_loss: 0.2617\n",
            "Epoch 4/50\n",
            "60000/60000 [==============================] - 1s 15us/step - loss: 0.2571 - val_loss: 0.2502\n",
            "Epoch 5/50\n",
            "60000/60000 [==============================] - 1s 15us/step - loss: 0.2452 - val_loss: 0.2379\n",
            "Epoch 6/50\n",
            "60000/60000 [==============================] - 1s 15us/step - loss: 0.2337 - val_loss: 0.2267\n",
            "Epoch 7/50\n",
            "60000/60000 [==============================] - 1s 15us/step - loss: 0.2234 - val_loss: 0.2171\n",
            "Epoch 8/50\n",
            "60000/60000 [==============================] - 1s 15us/step - loss: 0.2148 - val_loss: 0.2094\n",
            "Epoch 9/50\n",
            "60000/60000 [==============================] - 1s 15us/step - loss: 0.2078 - val_loss: 0.2033\n",
            "Epoch 10/50\n",
            "60000/60000 [==============================] - 1s 15us/step - loss: 0.2019 - val_loss: 0.1976\n",
            "Epoch 11/50\n",
            "60000/60000 [==============================] - 1s 15us/step - loss: 0.1967 - val_loss: 0.1927\n",
            "Epoch 12/50\n",
            "60000/60000 [==============================] - 1s 15us/step - loss: 0.1921 - val_loss: 0.1885\n",
            "Epoch 13/50\n",
            "60000/60000 [==============================] - 1s 15us/step - loss: 0.1879 - val_loss: 0.1845\n",
            "Epoch 14/50\n",
            "60000/60000 [==============================] - 1s 15us/step - loss: 0.1841 - val_loss: 0.1808\n",
            "Epoch 15/50\n",
            "60000/60000 [==============================] - 1s 15us/step - loss: 0.1807 - val_loss: 0.1776\n",
            "Epoch 16/50\n",
            "60000/60000 [==============================] - 1s 15us/step - loss: 0.1776 - val_loss: 0.1747\n",
            "Epoch 17/50\n",
            "60000/60000 [==============================] - 1s 15us/step - loss: 0.1747 - val_loss: 0.1720\n",
            "Epoch 18/50\n",
            "60000/60000 [==============================] - 1s 15us/step - loss: 0.1720 - val_loss: 0.1694\n",
            "Epoch 19/50\n",
            "60000/60000 [==============================] - 1s 15us/step - loss: 0.1695 - val_loss: 0.1670\n",
            "Epoch 20/50\n",
            "60000/60000 [==============================] - 1s 15us/step - loss: 0.1672 - val_loss: 0.1647\n",
            "Epoch 21/50\n",
            "60000/60000 [==============================] - 1s 15us/step - loss: 0.1650 - val_loss: 0.1626\n",
            "Epoch 22/50\n",
            "60000/60000 [==============================] - 1s 15us/step - loss: 0.1629 - val_loss: 0.1605\n",
            "Epoch 23/50\n",
            "60000/60000 [==============================] - 1s 14us/step - loss: 0.1609 - val_loss: 0.1586\n",
            "Epoch 24/50\n",
            "60000/60000 [==============================] - 1s 15us/step - loss: 0.1590 - val_loss: 0.1567\n",
            "Epoch 25/50\n",
            "60000/60000 [==============================] - 1s 15us/step - loss: 0.1571 - val_loss: 0.1548\n",
            "Epoch 26/50\n",
            "60000/60000 [==============================] - 1s 15us/step - loss: 0.1554 - val_loss: 0.1531\n",
            "Epoch 27/50\n",
            "60000/60000 [==============================] - 1s 15us/step - loss: 0.1536 - val_loss: 0.1513\n",
            "Epoch 28/50\n",
            "60000/60000 [==============================] - 1s 15us/step - loss: 0.1520 - val_loss: 0.1497\n",
            "Epoch 29/50\n",
            "60000/60000 [==============================] - 1s 15us/step - loss: 0.1504 - val_loss: 0.1481\n",
            "Epoch 30/50\n",
            "60000/60000 [==============================] - 1s 15us/step - loss: 0.1488 - val_loss: 0.1465\n",
            "Epoch 31/50\n",
            "60000/60000 [==============================] - 1s 15us/step - loss: 0.1472 - val_loss: 0.1450\n",
            "Epoch 32/50\n",
            "60000/60000 [==============================] - 1s 15us/step - loss: 0.1458 - val_loss: 0.1435\n",
            "Epoch 33/50\n",
            "60000/60000 [==============================] - 1s 15us/step - loss: 0.1443 - val_loss: 0.1420\n",
            "Epoch 34/50\n",
            "60000/60000 [==============================] - 1s 14us/step - loss: 0.1429 - val_loss: 0.1408\n",
            "Epoch 35/50\n",
            "60000/60000 [==============================] - 1s 15us/step - loss: 0.1415 - val_loss: 0.1394\n",
            "Epoch 36/50\n",
            "60000/60000 [==============================] - 1s 15us/step - loss: 0.1402 - val_loss: 0.1380\n",
            "Epoch 37/50\n",
            "60000/60000 [==============================] - 1s 14us/step - loss: 0.1389 - val_loss: 0.1368\n",
            "Epoch 38/50\n",
            "60000/60000 [==============================] - 1s 15us/step - loss: 0.1376 - val_loss: 0.1354\n",
            "Epoch 39/50\n",
            "60000/60000 [==============================] - 1s 15us/step - loss: 0.1364 - val_loss: 0.1342\n",
            "Epoch 40/50\n",
            "60000/60000 [==============================] - 1s 15us/step - loss: 0.1352 - val_loss: 0.1330\n",
            "Epoch 41/50\n",
            "60000/60000 [==============================] - 1s 15us/step - loss: 0.1340 - val_loss: 0.1319\n",
            "Epoch 42/50\n",
            "60000/60000 [==============================] - 1s 15us/step - loss: 0.1329 - val_loss: 0.1307\n",
            "Epoch 43/50\n",
            "60000/60000 [==============================] - 1s 15us/step - loss: 0.1318 - val_loss: 0.1297\n",
            "Epoch 44/50\n",
            "60000/60000 [==============================] - 1s 15us/step - loss: 0.1307 - val_loss: 0.1286\n",
            "Epoch 45/50\n",
            "60000/60000 [==============================] - 1s 15us/step - loss: 0.1296 - val_loss: 0.1276\n",
            "Epoch 46/50\n",
            "60000/60000 [==============================] - 1s 15us/step - loss: 0.1286 - val_loss: 0.1267\n",
            "Epoch 47/50\n",
            "60000/60000 [==============================] - 1s 15us/step - loss: 0.1276 - val_loss: 0.1255\n",
            "Epoch 48/50\n",
            "60000/60000 [==============================] - 1s 15us/step - loss: 0.1266 - val_loss: 0.1247\n",
            "Epoch 49/50\n",
            "60000/60000 [==============================] - 1s 15us/step - loss: 0.1257 - val_loss: 0.1236\n",
            "Epoch 50/50\n",
            "60000/60000 [==============================] - 1s 15us/step - loss: 0.1247 - val_loss: 0.1227\n"
          ],
          "name": "stdout"
        },
        {
          "output_type": "execute_result",
          "data": {
            "text/plain": [
              "<keras.callbacks.History at 0x7f85583b6940>"
            ]
          },
          "metadata": {
            "tags": []
          },
          "execution_count": 41
        }
      ]
    },
    {
      "cell_type": "code",
      "metadata": {
        "id": "sVrcJuU-H66z",
        "colab_type": "code",
        "colab": {}
      },
      "source": [
        "encoded_imgs = encoder.predict(x_test)\n",
        "decoded_imgs = decoder.predict(encoded_imgs)"
      ],
      "execution_count": 0,
      "outputs": []
    },
    {
      "cell_type": "code",
      "metadata": {
        "id": "R7BZI3h6b68S",
        "colab_type": "code",
        "outputId": "ede7cba8-d860-4e25-f433-cb4f8c9fd7b4",
        "colab": {
          "base_uri": "https://localhost:8080/",
          "height": 264
        }
      },
      "source": [
        "import matplotlib.pyplot as plt\n",
        "\n",
        "n = 10  # how many digits we will display\n",
        "plt.figure(figsize=(20, 4))\n",
        "for i in range(n):\n",
        "    # display original\n",
        "    ax = plt.subplot(2, n, i + 1)\n",
        "    plt.imshow(x_test[i].reshape(28, 28))\n",
        "    plt.gray()\n",
        "    ax.get_xaxis().set_visible(False)\n",
        "    ax.get_yaxis().set_visible(False)\n",
        "\n",
        "    # display reconstruction\n",
        "    ax = plt.subplot(2, n, i + 1 + n)\n",
        "    plt.imshow(decoded_imgs[i].reshape(28, 28))\n",
        "    plt.gray()\n",
        "    ax.get_xaxis().set_visible(False)\n",
        "    ax.get_yaxis().set_visible(False)\n",
        "plt.show()"
      ],
      "execution_count": 0,
      "outputs": [
        {
          "output_type": "display_data",
          "data": {
            "image/png": "[encoded data removed]",
            "text/plain": [
              "<Figure size 1440x288 with 20 Axes>"
            ]
          },
          "metadata": {
            "tags": []
          }
        }
      ]
    },
    {
      "cell_type": "code",
      "metadata": {
        "id": "Tu9tZyi9b_VK",
        "colab_type": "code",
        "colab": {}
      },
      "source": [
        ""
      ],
      "execution_count": 0,
      "outputs": []
    }
  ]
}